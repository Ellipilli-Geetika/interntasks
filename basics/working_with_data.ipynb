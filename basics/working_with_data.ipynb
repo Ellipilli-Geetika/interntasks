{
 "cells": [
  {
   "cell_type": "code",
   "execution_count": 1,
   "metadata": {},
   "outputs": [],
   "source": [
    "import numpy as np\n",
    "import pandas as pd"
   ]
  },
  {
   "cell_type": "markdown",
   "metadata": {},
   "source": [
    "### somedata_df=pd.read_csv(\"some url like-C:\\Users\\user\\Downloads\\somedata.csv\")\n",
    "somedata_df.head()   gives first 5 rows"
   ]
  },
  {
   "cell_type": "markdown",
   "metadata": {},
   "source": [
    "somedata_df[0::2].head()  selecting some particular rows 5 values"
   ]
  },
  {
   "cell_type": "markdown",
   "metadata": {},
   "source": [
    "somedata[1:5]   1 to 5 only 4 rows record"
   ]
  },
  {
   "cell_type": "markdown",
   "metadata": {},
   "source": [
    "to get a particular col for rows filename.colname "
   ]
  },
  {
   "cell_type": "markdown",
   "metadata": {},
   "source": [
    "another method\n",
    "   filename['colname']"
   ]
  },
  {
   "cell_type": "markdown",
   "metadata": {},
   "source": [
    "somedata_df['colname1,colname2,colname3'].head()"
   ]
  },
  {
   "cell_type": "markdown",
   "metadata": {},
   "source": [
    "somedata_df['colname1']  is a series type to get dataframe type use somedata[['colname']]"
   ]
  },
  {
   "cell_type": "markdown",
   "metadata": {},
   "source": [
    "to set index set_index('indexname')\n",
    "ex:somedata_df.set_index(\"xyz\").head()\n"
   ]
  },
  {
   "cell_type": "markdown",
   "metadata": {},
   "source": [
    "label based indexing df.loc\n",
    "position based indexing df.iloc"
   ]
  },
  {
   "cell_type": "markdown",
   "metadata": {},
   "source": [
    "somedata_df.loc[4,'member_id']     4th row member_id column"
   ]
  },
  {
   "cell_type": "markdown",
   "metadata": {},
   "source": [
    "somedata_df.loc[4] 4th row items"
   ]
  },
  {
   "cell_type": "code",
   "execution_count": 16,
   "metadata": {},
   "outputs": [
    {
     "ename": "SyntaxError",
     "evalue": "(unicode error) 'unicodeescape' codec can't decode bytes in position 2-3: truncated \\UXXXXXXXX escape (<ipython-input-16-c7e018429c29>, line 1)",
     "output_type": "error",
     "traceback": [
      "\u001b[1;36m  File \u001b[1;32m\"<ipython-input-16-c7e018429c29>\"\u001b[1;36m, line \u001b[1;32m1\u001b[0m\n\u001b[1;33m    file=pd.read_csv(\"C:\\Users\\user\\Downloads\\excelfile.csv\")\u001b[0m\n\u001b[1;37m                    ^\u001b[0m\n\u001b[1;31mSyntaxError\u001b[0m\u001b[1;31m:\u001b[0m (unicode error) 'unicodeescape' codec can't decode bytes in position 2-3: truncated \\UXXXXXXXX escape\n"
     ]
    }
   ],
   "source": [
    "file=pd.read_csv(\"C:\\Users\\user\\Downloads\\excelfile.csv\")\n",
    "file"
   ]
  },
  {
   "cell_type": "code",
   "execution_count": null,
   "metadata": {},
   "outputs": [],
   "source": []
  }
 ],
 "metadata": {
  "kernelspec": {
   "display_name": "Python 3",
   "language": "python",
   "name": "python3"
  },
  "language_info": {
   "codemirror_mode": {
    "name": "ipython",
    "version": 3
   },
   "file_extension": ".py",
   "mimetype": "text/x-python",
   "name": "python",
   "nbconvert_exporter": "python",
   "pygments_lexer": "ipython3",
   "version": "3.7.6"
  }
 },
 "nbformat": 4,
 "nbformat_minor": 4
}
