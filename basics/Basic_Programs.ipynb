{
 "cells": [
  {
   "cell_type": "code",
   "execution_count": 8,
   "metadata": {},
   "outputs": [],
   "source": [
    "#press esc for command mode (blue color box)\n",
    "#click inside In[] box for command mode\n",
    "#green box indicates edit mode\n",
    "#press enter for new line in the same shell\n",
    "#press shift + enter for execution\n",
    "#press captial P for commands in command mode\n",
    "#press capital M to convert into markdown cell\n",
    "#press capital Y to convert markdown to edit mode\n",
    "#'A' to insert cell above\n",
    "#'B' to insert cell below\n",
    "#press D 2 times to delete cell\n",
    "#Z to undo last operation"
   ]
  },
  {
   "cell_type": "code",
   "execution_count": 2,
   "metadata": {},
   "outputs": [
    {
     "data": {
      "text/plain": [
       "8"
      ]
     },
     "execution_count": 2,
     "metadata": {},
     "output_type": "execute_result"
    }
   ],
   "source": [
    "#executing this by using shift + enter ommand\n",
    "2*4"
   ]
  },
  {
   "cell_type": "code",
   "execution_count": 9,
   "metadata": {},
   "outputs": [
    {
     "name": "stdout",
     "output_type": "stream",
     "text": [
      "Enter your name : Geetika\n",
      "My name is Geetika\n"
     ]
    }
   ],
   "source": [
    "msg=input(\"Enter your name : \")\n",
    "print(\"My name is\",msg)"
   ]
  },
  {
   "cell_type": "code",
   "execution_count": 4,
   "metadata": {},
   "outputs": [
    {
     "name": "stdout",
     "output_type": "stream",
     "text": [
      "[1 2 3]\n"
     ]
    }
   ],
   "source": [
    "#checking whether numpy is working or not \n",
    "import numpy as np\n",
    "a=np.array([1,2,3])\n",
    "print(a)"
   ]
  },
  {
   "cell_type": "code",
   "execution_count": 8,
   "metadata": {},
   "outputs": [
    {
     "name": "stdout",
     "output_type": "stream",
     "text": [
      "   0\n",
      "0  1\n",
      "1  2\n",
      "2  3\n",
      "3  4\n",
      "4  5\n"
     ]
    }
   ],
   "source": [
    "#checking whether pandas is wokring are not\n",
    "import pandas as pd\n",
    "data=[1,2,3,4,5]\n",
    "a=pd.DataFrame(data)\n",
    "print(a)"
   ]
  },
  {
   "cell_type": "markdown",
   "metadata": {},
   "source": [
    "converted into markdown cell by clicking capital M "
   ]
  },
  {
   "cell_type": "code",
   "execution_count": 10,
   "metadata": {},
   "outputs": [],
   "source": [
    "# F to find and replace\n",
    "# hello my name is geetu\n",
    "# replaced geetika with geetu"
   ]
  },
  {
   "cell_type": "code",
   "execution_count": null,
   "metadata": {},
   "outputs": [],
   "source": []
  }
 ],
 "metadata": {
  "kernelspec": {
   "display_name": "Python 3",
   "language": "python",
   "name": "python3"
  },
  "language_info": {
   "codemirror_mode": {
    "name": "ipython",
    "version": 3
   },
   "file_extension": ".py",
   "mimetype": "text/x-python",
   "name": "python",
   "nbconvert_exporter": "python",
   "pygments_lexer": "ipython3",
   "version": "3.7.6"
  }
 },
 "nbformat": 4,
 "nbformat_minor": 4
}
