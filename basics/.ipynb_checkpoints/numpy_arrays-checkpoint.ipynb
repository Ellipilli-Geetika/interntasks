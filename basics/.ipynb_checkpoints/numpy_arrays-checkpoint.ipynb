{
 "cells": [
  {
   "cell_type": "code",
   "execution_count": 1,
   "metadata": {},
   "outputs": [],
   "source": [
    "import numpy as np"
   ]
  },
  {
   "cell_type": "code",
   "execution_count": 4,
   "metadata": {},
   "outputs": [
    {
     "name": "stdout",
     "output_type": "stream",
     "text": [
      "[0 1 2 3 4 5 6 7 8]\n",
      "[[0 1 2 3]\n",
      " [4 5 6 7]\n",
      " [8 0 1 2]\n",
      " [3 4 5 6]]\n",
      "[[0 1 2 3 4 5 6]\n",
      " [7 8 0 1 2 3 4]\n",
      " [5 6 7 8 0 1 2]]\n"
     ]
    }
   ],
   "source": [
    "# if the array don't have the same dimensions\n",
    "#use resize()\n",
    "\n",
    "a=np.arange(0,9)\n",
    "print(a)\n",
    "print(np.resize(a,(4,4)))\n",
    "print(np.resize(a,(3,7)))"
   ]
  },
  {
   "cell_type": "code",
   "execution_count": 6,
   "metadata": {},
   "outputs": [
    {
     "name": "stdout",
     "output_type": "stream",
     "text": [
      "[0 1 2 3 4 5 6 7 8]\n",
      "[[0 1 2]\n",
      " [3 4 5]\n",
      " [6 7 8]]\n"
     ]
    }
   ],
   "source": [
    "#give a new shape to an array without changing the data\n",
    "a=np.arange(0,9)\n",
    "print(a)\n",
    "a=a.reshape(3,3)\n",
    "print(a)"
   ]
  },
  {
   "cell_type": "code",
   "execution_count": 11,
   "metadata": {},
   "outputs": [
    {
     "name": "stdout",
     "output_type": "stream",
     "text": [
      "[0 1 2 3 4 5 6 7 8]\n",
      "[[0 1 2]\n",
      " [3 4 5]\n",
      " [6 7 8]]\n",
      "[[0]\n",
      " [1]\n",
      " [2]\n",
      " [3]\n",
      " [4]\n",
      " [5]\n",
      " [6]\n",
      " [7]\n",
      " [8]]\n",
      "[[0 1 2 3 4 5 6 7 8]]\n"
     ]
    }
   ],
   "source": [
    "#dimensions are automatically calculated using -1\n",
    "a=np.arange(0,9)\n",
    "print(a)\n",
    "print(a.reshape(3,-1))\n",
    "print(a.reshape(9,-1))\n",
    "print(a.reshape(1,-1))"
   ]
  },
  {
   "cell_type": "code",
   "execution_count": 14,
   "metadata": {},
   "outputs": [
    {
     "name": "stdout",
     "output_type": "stream",
     "text": [
      "[[1 3 4]\n",
      " [3 7 4]]\n"
     ]
    },
    {
     "data": {
      "text/plain": [
       "array([[1, 3],\n",
       "       [3, 7],\n",
       "       [4, 4]])"
      ]
     },
     "execution_count": 14,
     "metadata": {},
     "output_type": "execute_result"
    }
   ],
   "source": [
    "a=np.array([[1,3,4],[3,7,4]])\n",
    "print(a)\n",
    "a.T   #transpose of a array"
   ]
  },
  {
   "cell_type": "code",
   "execution_count": 15,
   "metadata": {},
   "outputs": [
    {
     "name": "stdout",
     "output_type": "stream",
     "text": [
      "[  1   3   4   3   7   4 231 457  54]\n"
     ]
    }
   ],
   "source": [
    "# doing + to two arrays using np causes adding of elements in array\n",
    "#but not appending to do this we use append()\n",
    "\n",
    "a=np.append(a,[231,457,54])\n",
    "print(a)\n"
   ]
  },
  {
   "cell_type": "code",
   "execution_count": 16,
   "metadata": {},
   "outputs": [
    {
     "name": "stdout",
     "output_type": "stream",
     "text": [
      "[  1   3   4   3   7  87   4 231 457  54]\n"
     ]
    }
   ],
   "source": [
    "# inserting elements \n",
    "\n",
    "a=np.insert(a,5,87)\n",
    "print(a)"
   ]
  },
  {
   "cell_type": "code",
   "execution_count": 18,
   "metadata": {},
   "outputs": [
    {
     "data": {
      "text/plain": [
       "array([  1,   3,   4,   3,   4, 231, 457,  54])"
      ]
     },
     "execution_count": 18,
     "metadata": {},
     "output_type": "execute_result"
    }
   ],
   "source": [
    "#deleting  at given index array\n",
    "\n",
    "a=np.delete(a,[4])   #start counting from 1 not 0 while deleting\n",
    "a "
   ]
  },
  {
   "cell_type": "markdown",
   "metadata": {},
   "source": [
    "# Split Join /  stack Arrays"
   ]
  },
  {
   "cell_type": "markdown",
   "metadata": {},
   "source": [
    "### np.r_() Arrange arrays row-wise"
   ]
  },
  {
   "cell_type": "markdown",
   "metadata": {},
   "source": [
    "### np.c_() Arrange arrays column wise"
   ]
  },
  {
   "cell_type": "markdown",
   "metadata": {},
   "source": [
    "### np.concatenate() concatenate two arrays"
   ]
  },
  {
   "cell_type": "markdown",
   "metadata": {},
   "source": [
    "### np.hstack() stack arrays horizontally"
   ]
  },
  {
   "cell_type": "markdown",
   "metadata": {},
   "source": [
    "### np.vstack() stack array vertially"
   ]
  },
  {
   "cell_type": "code",
   "execution_count": 21,
   "metadata": {},
   "outputs": [
    {
     "name": "stdout",
     "output_type": "stream",
     "text": [
      "[[ 0  1  2]\n",
      " [ 3  4  5]\n",
      " [ 6  7  8]\n",
      " [ 9 10 11]\n",
      " [12 13 14]\n",
      " [15 16 17]]\n"
     ]
    }
   ],
   "source": [
    "a=np.arange(9).reshape(3,3)\n",
    "b=np.arange(9,18).reshape(3,3)\n",
    "print(np.concatenate((a,b)))"
   ]
  },
  {
   "cell_type": "code",
   "execution_count": 22,
   "metadata": {},
   "outputs": [
    {
     "name": "stdout",
     "output_type": "stream",
     "text": [
      "concat axis=0 [[   0    1    2]\n",
      " [   3    4    5]\n",
      " [   6    7    8]\n",
      " [   1   45   76]\n",
      " [   4   78   35]\n",
      " [  25 6853  541]]\n",
      "concat axis=1 [[   0    1    2    1   45   76]\n",
      " [   3    4    5    4   78   35]\n",
      " [   6    7    8   25 6853  541]]\n"
     ]
    }
   ],
   "source": [
    "#array manipulation       but using concatenation multi dimensional donot possible\n",
    "\n",
    "b=np.array([[1,45,76],[4,78,35],[25,6853,541]])\n",
    "c=np.concatenate([a,b],axis=0)    #increasing rows or adding based on x-axis keeping no of col const\n",
    "print(\"concat axis=0\",c)                          #concatenates to single dimension\n",
    "c=np.concatenate((a,b),axis=1)    #increasing columns or adding based on y-axis keeping no of rows const\n",
    "print(\"concat axis=1\",c)                        # a,b can be taken in the form of tuple or list\n"
   ]
  },
  {
   "cell_type": "code",
   "execution_count": 23,
   "metadata": {},
   "outputs": [
    {
     "name": "stdout",
     "output_type": "stream",
     "text": [
      "stacking axis=0 [[[   0    1    2]\n",
      "  [   3    4    5]\n",
      "  [   6    7    8]]\n",
      "\n",
      " [[   1   45   76]\n",
      "  [   4   78   35]\n",
      "  [  25 6853  541]]]\n",
      "stacking axis=1 [[[   0    1    2]\n",
      "  [   1   45   76]]\n",
      "\n",
      " [[   3    4    5]\n",
      "  [   4   78   35]]\n",
      "\n",
      " [[   6    7    8]\n",
      "  [  25 6853  541]]]\n",
      "vertical stacking [[   0    1    2]\n",
      " [   3    4    5]\n",
      " [   6    7    8]\n",
      " [   1   45   76]\n",
      " [   4   78   35]\n",
      " [  25 6853  541]]\n",
      "horizontal stacking [[   0    1    2    1   45   76]\n",
      " [   3    4    5    4   78   35]\n",
      " [   6    7    8   25 6853  541]]\n"
     ]
    }
   ],
   "source": [
    "\n",
    "#using horizontal stacking and vertical stacking both horizintal and vertical stacking are possible\n",
    "c=np.stack([a,b],axis=0)\n",
    "print(\"stacking axis=0\",c)      #concatenates to two dimensions\n",
    "c=np.stack([a,b],axis=1)\n",
    "print(\"stacking axis=1\",c)      #see the difference bteween  concatenation and stacking\n",
    "c=np.vstack([a,b])           #resembels concatenation  axis=0\n",
    "print(\"vertical stacking\",c)\n",
    "c=np.hstack([a,b])           #resembles concatenation axis=1\n",
    "print(\"horizontal stacking\",c)\n",
    "\n"
   ]
  },
  {
   "cell_type": "code",
   "execution_count": 25,
   "metadata": {},
   "outputs": [
    {
     "name": "stdout",
     "output_type": "stream",
     "text": [
      "[[   0    1    2]\n",
      " [   3    4    5]\n",
      " [   6    7    8]\n",
      " [   1   45   76]\n",
      " [   4   78   35]\n",
      " [  25 6853  541]]\n"
     ]
    }
   ],
   "source": [
    "#stack array row_wise\n",
    "\n",
    "print(np.r_[a,b])   #arguments in the form of list but not tuple"
   ]
  },
  {
   "cell_type": "code",
   "execution_count": 26,
   "metadata": {},
   "outputs": [
    {
     "name": "stdout",
     "output_type": "stream",
     "text": [
      "[[   0    1    2    1   45   76]\n",
      " [   3    4    5    4   78   35]\n",
      " [   6    7    8   25 6853  541]]\n"
     ]
    }
   ],
   "source": [
    "print(np.c_[a,b])"
   ]
  },
  {
   "cell_type": "markdown",
   "metadata": {},
   "source": [
    "# Basic mathematical operations "
   ]
  },
  {
   "cell_type": "code",
   "execution_count": 27,
   "metadata": {},
   "outputs": [
    {
     "name": "stdout",
     "output_type": "stream",
     "text": [
      "[[1.00000000e+00 2.71828183e+00 7.38905610e+00]\n",
      " [2.00855369e+01 5.45981500e+01 1.48413159e+02]\n",
      " [4.03428793e+02 1.09663316e+03 2.98095799e+03]]\n"
     ]
    }
   ],
   "source": [
    "print(np.exp(a))"
   ]
  },
  {
   "cell_type": "code",
   "execution_count": 28,
   "metadata": {},
   "outputs": [
    {
     "name": "stdout",
     "output_type": "stream",
     "text": [
      "[[0.         3.80666249 4.33073334]\n",
      " [1.38629436 4.35670883 3.55534806]\n",
      " [3.21887582 8.83244179 6.29341928]]\n"
     ]
    }
   ],
   "source": [
    "print(np.log(b))"
   ]
  },
  {
   "cell_type": "code",
   "execution_count": 29,
   "metadata": {},
   "outputs": [
    {
     "name": "stdout",
     "output_type": "stream",
     "text": [
      "[[ 0.          0.84147098  0.90929743  0.84147098  0.85090352  0.56610764]\n",
      " [ 0.14112001 -0.7568025  -0.95892427 -0.7568025   0.51397846 -0.42818267]\n",
      " [-0.2794155   0.6569866   0.98935825 -0.13235175 -0.92703342  0.60204801]]\n"
     ]
    }
   ],
   "source": [
    "print(np.sin(c))"
   ]
  },
  {
   "cell_type": "code",
   "execution_count": 30,
   "metadata": {},
   "outputs": [
    {
     "name": "stdout",
     "output_type": "stream",
     "text": [
      "[[ 1.          0.54030231 -0.41614684]\n",
      " [-0.9899925  -0.65364362  0.28366219]\n",
      " [ 0.96017029  0.75390225 -0.14550003]]\n"
     ]
    }
   ],
   "source": [
    "print(np.cos(a))"
   ]
  },
  {
   "cell_type": "code",
   "execution_count": 31,
   "metadata": {},
   "outputs": [
    {
     "name": "stdout",
     "output_type": "stream",
     "text": [
      "min 0\n",
      "max 8\n",
      "std 2.581988897471611\n"
     ]
    }
   ],
   "source": [
    "\n",
    "print(\"min\",np.min(a))\n",
    "print(\"max\",np.max(a))\n",
    "print(\"std\",np.std(a))"
   ]
  },
  {
   "cell_type": "code",
   "execution_count": 32,
   "metadata": {},
   "outputs": [
    {
     "name": "stdout",
     "output_type": "stream",
     "text": [
      "sum [  3  14  75 775]\n",
      "mul [   2   48 1376 5376]\n",
      "sub [  -1   -2  -11 -761]\n",
      "divide [0.5        0.75       0.74418605 0.00911458]\n"
     ]
    }
   ],
   "source": [
    "#operations on two arrays elements\n",
    "a=np.array([1,6,32,7])\n",
    "b=np.array([2,8,43,768])\n",
    "print(\"sum\",a+b) #or np.add(a,b)            if u don't mention np in either declaration or cal then it will simply concat a and b\n",
    "print(\"mul\",a*b)  #or np.multiply(a,b)\n",
    "print(\"sub\",np.subtract(a,b))\n",
    "print(\"divide\",np.divide(a,b))"
   ]
  },
  {
   "cell_type": "code",
   "execution_count": 33,
   "metadata": {},
   "outputs": [
    {
     "name": "stdout",
     "output_type": "stream",
     "text": [
      "[[  1  54  34]\n",
      " [  3  56  54]\n",
      " [ 21  65 453]]\n",
      "[[  1  34  56]\n",
      " [  3  54  65]\n",
      " [ 21  54 453]]\n"
     ]
    }
   ],
   "source": [
    "\n",
    "#sort\n",
    "a=np.array([[1,56,34],[3,65,54],[21,54,453]])\n",
    "print(np.sort(a,axis=0))\n",
    "print(np.sort(a,axis=1))\n"
   ]
  },
  {
   "cell_type": "code",
   "execution_count": 34,
   "metadata": {},
   "outputs": [
    {
     "name": "stdout",
     "output_type": "stream",
     "text": [
      "a is [[  1  56  34]\n",
      " [  3  65  54]\n",
      " [ 21  54 453]]\n",
      "split function [array([[ 1],\n",
      "       [ 3],\n",
      "       [21]]), array([[56],\n",
      "       [65],\n",
      "       [54]]), array([[ 34],\n",
      "       [ 54],\n",
      "       [453]])]\n"
     ]
    }
   ],
   "source": [
    "\n",
    "#split\n",
    "print(\"a is\",a)\n",
    "print(\"split function\",np.split(a,3,1))            #split(array,index,axis)   axis=0/1\n"
   ]
  },
  {
   "cell_type": "markdown",
   "metadata": {},
   "source": [
    "## vectorize the function and apply an numpy array"
   ]
  },
  {
   "cell_type": "code",
   "execution_count": 35,
   "metadata": {},
   "outputs": [],
   "source": [
    "a=np.array([1,3,5,6,8])"
   ]
  },
  {
   "cell_type": "code",
   "execution_count": 36,
   "metadata": {},
   "outputs": [
    {
     "data": {
      "text/plain": [
       "array([ 6, 18, 38, 51, 83])"
      ]
     },
     "execution_count": 36,
     "metadata": {},
     "output_type": "execute_result"
    }
   ],
   "source": [
    "v=np.vectorize(lambda x: (x**2+2*x+3))\n",
    "v(a)"
   ]
  },
  {
   "cell_type": "code",
   "execution_count": 37,
   "metadata": {},
   "outputs": [
    {
     "data": {
      "text/plain": [
       "array([    11,     83,   1938, 591363])"
      ]
     },
     "execution_count": 37,
     "metadata": {},
     "output_type": "execute_result"
    }
   ],
   "source": [
    "v(b)"
   ]
  },
  {
   "cell_type": "markdown",
   "metadata": {},
   "source": [
    "## Linear algebra operations"
   ]
  },
  {
   "cell_type": "markdown",
   "metadata": {},
   "source": [
    "#### help(np.linalg) provides linera algebra documnetation"
   ]
  },
  {
   "cell_type": "markdown",
   "metadata": {},
   "source": [
    "#### np.linalg-is a package"
   ]
  },
  {
   "cell_type": "markdown",
   "metadata": {},
   "source": [
    "###### np.linalg.inv inverse of a matrix"
   ]
  },
  {
   "cell_type": "markdown",
   "metadata": {},
   "source": [
    "###### np.linalg.det deteminant of a matrix"
   ]
  },
  {
   "cell_type": "markdown",
   "metadata": {},
   "source": [
    "###### np.linalg.eig eigenvalues and eigenvectors of a matrix"
   ]
  },
  {
   "cell_type": "markdown",
   "metadata": {},
   "source": [
    "###### np.dot(a,b) dot product of a matrix"
   ]
  },
  {
   "cell_type": "code",
   "execution_count": 48,
   "metadata": {},
   "outputs": [
    {
     "name": "stdout",
     "output_type": "stream",
     "text": [
      "a= [[0 1 2]\n",
      " [3 4 5]\n",
      " [6 7 8]]\n"
     ]
    }
   ],
   "source": [
    "a=np.arange(9).reshape(3,3)\n",
    "print(\"a=\",a)"
   ]
  },
  {
   "cell_type": "code",
   "execution_count": 41,
   "metadata": {},
   "outputs": [
    {
     "name": "stdout",
     "output_type": "stream",
     "text": [
      "b= [[ 9 10 11]\n",
      " [12 13 14]\n",
      " [15 16 17]]\n"
     ]
    }
   ],
   "source": [
    "b=np.arange(9,18).reshape(3,3)\n",
    "print(\"b=\",b)"
   ]
  },
  {
   "cell_type": "code",
   "execution_count": 42,
   "metadata": {},
   "outputs": [
    {
     "name": "stdout",
     "output_type": "stream",
     "text": [
      "0.0\n"
     ]
    }
   ],
   "source": [
    "print(np.linalg.det(a))    #as it is a square matrix detis possible"
   ]
  },
  {
   "cell_type": "code",
   "execution_count": 43,
   "metadata": {},
   "outputs": [
    {
     "name": "stdout",
     "output_type": "stream",
     "text": [
      "4.996003610813198e-15\n"
     ]
    }
   ],
   "source": [
    "print(np.linalg.det(b))"
   ]
  },
  {
   "cell_type": "code",
   "execution_count": 45,
   "metadata": {},
   "outputs": [
    {
     "name": "stdout",
     "output_type": "stream",
     "text": [
      "[[-6.0047995e+14  1.2009599e+15 -6.0047995e+14]\n",
      " [ 1.2009599e+15 -2.4019198e+15  1.2009599e+15]\n",
      " [-6.0047995e+14  1.2009599e+15 -6.0047995e+14]]\n"
     ]
    }
   ],
   "source": [
    "print(np.linalg.inv(b))    # to cal inverse det!=0 not possible for 'a' matrix"
   ]
  },
  {
   "cell_type": "code",
   "execution_count": 47,
   "metadata": {},
   "outputs": [
    {
     "name": "stdout",
     "output_type": "stream",
     "text": [
      "(array([ 1.33484692e+01, -1.34846923e+00, -1.15433316e-15]), array([[ 0.16476382,  0.79969966,  0.40824829],\n",
      "       [ 0.50577448,  0.10420579, -0.81649658],\n",
      "       [ 0.84678513, -0.59128809,  0.40824829]]))\n"
     ]
    }
   ],
   "source": [
    "print(np.linalg.eig(a))"
   ]
  },
  {
   "cell_type": "code",
   "execution_count": 6,
   "metadata": {},
   "outputs": [
    {
     "data": {
      "text/plain": [
       "array([[ 260, 4616],\n",
       "       [ 365, 5632]])"
      ]
     },
     "execution_count": 6,
     "metadata": {},
     "output_type": "execute_result"
    }
   ],
   "source": [
    "import numpy as np\n",
    "#dotproduct of the matrix\n",
    "a=np.array([[1,6],[32,7]])\n",
    "b=np.array([[2,8],[43,768]])\n",
    "np.dot(a,b)"
   ]
  },
  {
   "cell_type": "code",
   "execution_count": null,
   "metadata": {},
   "outputs": [],
   "source": []
  }
 ],
 "metadata": {
  "kernelspec": {
   "display_name": "Python 3",
   "language": "python",
   "name": "python3"
  },
  "language_info": {
   "codemirror_mode": {
    "name": "ipython",
    "version": 3
   },
   "file_extension": ".py",
   "mimetype": "text/x-python",
   "name": "python",
   "nbconvert_exporter": "python",
   "pygments_lexer": "ipython3",
   "version": "3.7.6"
  }
 },
 "nbformat": 4,
 "nbformat_minor": 4
}
